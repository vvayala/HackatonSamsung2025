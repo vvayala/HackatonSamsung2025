{
  "nbformat": 4,
  "nbformat_minor": 0,
  "metadata": {
    "colab": {
      "provenance": []
    },
    "kernelspec": {
      "name": "python3",
      "display_name": "Python 3"
    },
    "language_info": {
      "name": "python"
    }
  },
  "cells": [
    {
      "cell_type": "code",
      "source": [
        "#Intalar chat pre entrenado\n",
        "!pip install chatterbot\n",
        "!pip install chatterbot_corpus\n"
      ],
      "metadata": {
        "colab": {
          "base_uri": "https://localhost:8080/"
        },
        "id": "oitkxN6riHtf",
        "outputId": "268f478b-354e-4a68-ae8b-9847c083815a",
        "collapsed": true
      },
      "execution_count": 4,
      "outputs": [
        {
          "output_type": "stream",
          "name": "stdout",
          "text": [
            "Requirement already satisfied: chatterbot in /usr/local/lib/python3.11/dist-packages (1.2.3)\n",
            "Requirement already satisfied: mathparse<0.2,>=0.1 in /usr/local/lib/python3.11/dist-packages (from chatterbot) (0.1.2)\n",
            "Requirement already satisfied: python-dateutil<2.10,>=2.9 in /usr/local/lib/python3.11/dist-packages (from chatterbot) (2.9.0.post0)\n",
            "Requirement already satisfied: sqlalchemy<2.1,>=2.0 in /usr/local/lib/python3.11/dist-packages (from chatterbot) (2.0.39)\n",
            "Requirement already satisfied: spacy<3.9,>=3.8 in /usr/local/lib/python3.11/dist-packages (from chatterbot) (3.8.4)\n",
            "Requirement already satisfied: tqdm in /usr/local/lib/python3.11/dist-packages (from chatterbot) (4.67.1)\n",
            "Requirement already satisfied: six>=1.5 in /usr/local/lib/python3.11/dist-packages (from python-dateutil<2.10,>=2.9->chatterbot) (1.17.0)\n",
            "Requirement already satisfied: spacy-legacy<3.1.0,>=3.0.11 in /usr/local/lib/python3.11/dist-packages (from spacy<3.9,>=3.8->chatterbot) (3.0.12)\n",
            "Requirement already satisfied: spacy-loggers<2.0.0,>=1.0.0 in /usr/local/lib/python3.11/dist-packages (from spacy<3.9,>=3.8->chatterbot) (1.0.5)\n",
            "Requirement already satisfied: murmurhash<1.1.0,>=0.28.0 in /usr/local/lib/python3.11/dist-packages (from spacy<3.9,>=3.8->chatterbot) (1.0.12)\n",
            "Requirement already satisfied: cymem<2.1.0,>=2.0.2 in /usr/local/lib/python3.11/dist-packages (from spacy<3.9,>=3.8->chatterbot) (2.0.11)\n",
            "Requirement already satisfied: preshed<3.1.0,>=3.0.2 in /usr/local/lib/python3.11/dist-packages (from spacy<3.9,>=3.8->chatterbot) (3.0.9)\n",
            "Requirement already satisfied: thinc<8.4.0,>=8.3.4 in /usr/local/lib/python3.11/dist-packages (from spacy<3.9,>=3.8->chatterbot) (8.3.4)\n",
            "Requirement already satisfied: wasabi<1.2.0,>=0.9.1 in /usr/local/lib/python3.11/dist-packages (from spacy<3.9,>=3.8->chatterbot) (1.1.3)\n",
            "Requirement already satisfied: srsly<3.0.0,>=2.4.3 in /usr/local/lib/python3.11/dist-packages (from spacy<3.9,>=3.8->chatterbot) (2.5.1)\n",
            "Requirement already satisfied: catalogue<2.1.0,>=2.0.6 in /usr/local/lib/python3.11/dist-packages (from spacy<3.9,>=3.8->chatterbot) (2.0.10)\n",
            "Requirement already satisfied: weasel<0.5.0,>=0.1.0 in /usr/local/lib/python3.11/dist-packages (from spacy<3.9,>=3.8->chatterbot) (0.4.1)\n",
            "Requirement already satisfied: typer<1.0.0,>=0.3.0 in /usr/local/lib/python3.11/dist-packages (from spacy<3.9,>=3.8->chatterbot) (0.15.2)\n",
            "Requirement already satisfied: numpy>=1.19.0 in /usr/local/lib/python3.11/dist-packages (from spacy<3.9,>=3.8->chatterbot) (2.0.2)\n",
            "Requirement already satisfied: requests<3.0.0,>=2.13.0 in /usr/local/lib/python3.11/dist-packages (from spacy<3.9,>=3.8->chatterbot) (2.32.3)\n",
            "Requirement already satisfied: pydantic!=1.8,!=1.8.1,<3.0.0,>=1.7.4 in /usr/local/lib/python3.11/dist-packages (from spacy<3.9,>=3.8->chatterbot) (2.10.6)\n",
            "Requirement already satisfied: jinja2 in /usr/local/lib/python3.11/dist-packages (from spacy<3.9,>=3.8->chatterbot) (3.1.6)\n",
            "Requirement already satisfied: setuptools in /usr/local/lib/python3.11/dist-packages (from spacy<3.9,>=3.8->chatterbot) (75.1.0)\n",
            "Requirement already satisfied: packaging>=20.0 in /usr/local/lib/python3.11/dist-packages (from spacy<3.9,>=3.8->chatterbot) (24.2)\n",
            "Requirement already satisfied: langcodes<4.0.0,>=3.2.0 in /usr/local/lib/python3.11/dist-packages (from spacy<3.9,>=3.8->chatterbot) (3.5.0)\n",
            "Requirement already satisfied: greenlet!=0.4.17 in /usr/local/lib/python3.11/dist-packages (from sqlalchemy<2.1,>=2.0->chatterbot) (3.1.1)\n",
            "Requirement already satisfied: typing-extensions>=4.6.0 in /usr/local/lib/python3.11/dist-packages (from sqlalchemy<2.1,>=2.0->chatterbot) (4.12.2)\n",
            "Requirement already satisfied: language-data>=1.2 in /usr/local/lib/python3.11/dist-packages (from langcodes<4.0.0,>=3.2.0->spacy<3.9,>=3.8->chatterbot) (1.3.0)\n",
            "Requirement already satisfied: annotated-types>=0.6.0 in /usr/local/lib/python3.11/dist-packages (from pydantic!=1.8,!=1.8.1,<3.0.0,>=1.7.4->spacy<3.9,>=3.8->chatterbot) (0.7.0)\n",
            "Requirement already satisfied: pydantic-core==2.27.2 in /usr/local/lib/python3.11/dist-packages (from pydantic!=1.8,!=1.8.1,<3.0.0,>=1.7.4->spacy<3.9,>=3.8->chatterbot) (2.27.2)\n",
            "Requirement already satisfied: charset-normalizer<4,>=2 in /usr/local/lib/python3.11/dist-packages (from requests<3.0.0,>=2.13.0->spacy<3.9,>=3.8->chatterbot) (3.4.1)\n",
            "Requirement already satisfied: idna<4,>=2.5 in /usr/local/lib/python3.11/dist-packages (from requests<3.0.0,>=2.13.0->spacy<3.9,>=3.8->chatterbot) (3.10)\n",
            "Requirement already satisfied: urllib3<3,>=1.21.1 in /usr/local/lib/python3.11/dist-packages (from requests<3.0.0,>=2.13.0->spacy<3.9,>=3.8->chatterbot) (2.3.0)\n",
            "Requirement already satisfied: certifi>=2017.4.17 in /usr/local/lib/python3.11/dist-packages (from requests<3.0.0,>=2.13.0->spacy<3.9,>=3.8->chatterbot) (2025.1.31)\n",
            "Requirement already satisfied: blis<1.3.0,>=1.2.0 in /usr/local/lib/python3.11/dist-packages (from thinc<8.4.0,>=8.3.4->spacy<3.9,>=3.8->chatterbot) (1.2.0)\n",
            "Requirement already satisfied: confection<1.0.0,>=0.0.1 in /usr/local/lib/python3.11/dist-packages (from thinc<8.4.0,>=8.3.4->spacy<3.9,>=3.8->chatterbot) (0.1.5)\n",
            "Requirement already satisfied: click>=8.0.0 in /usr/local/lib/python3.11/dist-packages (from typer<1.0.0,>=0.3.0->spacy<3.9,>=3.8->chatterbot) (8.1.8)\n",
            "Requirement already satisfied: shellingham>=1.3.0 in /usr/local/lib/python3.11/dist-packages (from typer<1.0.0,>=0.3.0->spacy<3.9,>=3.8->chatterbot) (1.5.4)\n",
            "Requirement already satisfied: rich>=10.11.0 in /usr/local/lib/python3.11/dist-packages (from typer<1.0.0,>=0.3.0->spacy<3.9,>=3.8->chatterbot) (13.9.4)\n",
            "Requirement already satisfied: cloudpathlib<1.0.0,>=0.7.0 in /usr/local/lib/python3.11/dist-packages (from weasel<0.5.0,>=0.1.0->spacy<3.9,>=3.8->chatterbot) (0.21.0)\n",
            "Requirement already satisfied: smart-open<8.0.0,>=5.2.1 in /usr/local/lib/python3.11/dist-packages (from weasel<0.5.0,>=0.1.0->spacy<3.9,>=3.8->chatterbot) (7.1.0)\n",
            "Requirement already satisfied: MarkupSafe>=2.0 in /usr/local/lib/python3.11/dist-packages (from jinja2->spacy<3.9,>=3.8->chatterbot) (3.0.2)\n",
            "Requirement already satisfied: marisa-trie>=1.1.0 in /usr/local/lib/python3.11/dist-packages (from language-data>=1.2->langcodes<4.0.0,>=3.2.0->spacy<3.9,>=3.8->chatterbot) (1.2.1)\n",
            "Requirement already satisfied: markdown-it-py>=2.2.0 in /usr/local/lib/python3.11/dist-packages (from rich>=10.11.0->typer<1.0.0,>=0.3.0->spacy<3.9,>=3.8->chatterbot) (3.0.0)\n",
            "Requirement already satisfied: pygments<3.0.0,>=2.13.0 in /usr/local/lib/python3.11/dist-packages (from rich>=10.11.0->typer<1.0.0,>=0.3.0->spacy<3.9,>=3.8->chatterbot) (2.18.0)\n",
            "Requirement already satisfied: wrapt in /usr/local/lib/python3.11/dist-packages (from smart-open<8.0.0,>=5.2.1->weasel<0.5.0,>=0.1.0->spacy<3.9,>=3.8->chatterbot) (1.17.2)\n",
            "Requirement already satisfied: mdurl~=0.1 in /usr/local/lib/python3.11/dist-packages (from markdown-it-py>=2.2.0->rich>=10.11.0->typer<1.0.0,>=0.3.0->spacy<3.9,>=3.8->chatterbot) (0.1.2)\n",
            "Requirement already satisfied: chatterbot_corpus in /usr/local/lib/python3.11/dist-packages (1.2.2)\n"
          ]
        }
      ]
    },
    {
      "cell_type": "code",
      "execution_count": 64,
      "metadata": {
        "colab": {
          "base_uri": "https://localhost:8080/"
        },
        "id": "dZW3BHYehcYn",
        "outputId": "69e78415-0c01-462a-d1ad-5f2faaf711c7"
      },
      "outputs": [
        {
          "output_type": "stream",
          "name": "stderr",
          "text": [
            "ChatterBot Corpus Trainer: 7it [00:02,  2.68it/s]\n",
            "ChatterBot Corpus Trainer: 1it [00:00, 14.79it/s]\n",
            "ChatterBot Corpus Trainer: 1it [00:00,  6.62it/s]\n"
          ]
        }
      ],
      "source": [
        "from chatterbot import ChatBot\n",
        "from chatterbot.trainers import ChatterBotCorpusTrainer\n",
        "\n",
        "# Crear una nueva instancia del chatbot\n",
        "chatbot = ChatBot(\"Asistente\")\n",
        "\n",
        "# Entrenar el chatbot con datos en español\n",
        "trainer = ChatterBotCorpusTrainer(chatbot)\n",
        "trainer.train(\"chatterbot.corpus.spanish\")\n",
        "\n",
        "#Entrenar con file\n",
        "trainer.train(\"/content/entrenar.json\")\n",
        "trainer.train(\"/content/preguntas.json\")"
      ]
    },
    {
      "cell_type": "code",
      "source": [
        "despedida = ['salir', 'adios', 'chao', 'hasta luego', \"3\"]\n",
        "op1 = ['op1','opcion 1','opcion1','1', 'formulario']\n",
        "op2 = ['op2','2', 'opcion 2','opcion2']\n",
        "\n",
        "\n",
        "# Chat con el bot\n",
        "print(\"***Cardio Salud ES***\")\n",
        "print(\"1) Realizar formulario\")\n",
        "print(\"2) Explicame los datos necesarios\")\n",
        "print(\"3) Salir\")\n",
        "print(\"Nota: Recuerde que estos no son datos oficiales. Consulta con tu medico cualquier sintoma que presentes\")\n",
        "print(\"***Previene y cuida tu salud***\")\n",
        "\n",
        "while True:\n",
        "    user_input = input(\"Tú: \")\n",
        "    if user_input.lower() in despedida:\n",
        "        print(\"¡Adiós!\")\n",
        "        break\n",
        "    if user_input.lower() in op1:\n",
        "        print(\"LINK\")\n",
        "    if user_input.lower() in op2:\n",
        "        print(\"**DATOS NECESARIOS**\")\n",
        "        print(\"1.Edad\")\n",
        "        print(\"2.Genero\")\n",
        "        print(\"3.Dolor en el pecho (Anginas)\")\n",
        "        print(\"La angina de pecho es un tipo de dolor de pecho causado por la reducción del flujo sanguíneo al corazón. \")\n",
        "        print(\"4. Presion en sangre\")\n",
        "        print(\"La presión arterial es una fuerza que se ejerce en la sangre para que esta pueda recorrer todos los torrentes sanguíneos y así aportarle la vitalidad necesaria a los órganos.\")\n",
        "        print(\"5. Colesterol\")\n",
        "        print(\"El colesterol es una sustancia cerosa y parecida a la grasa que se encuentra en todas las células de su cuerpo. Su cuerpo necesita algo de colesterol para funcionar bien. Pero si tiene demasiado colesterol en su sangre, se puede pegar en las paredes de sus arterias, estrechándolas o incluso bloqueándolas\")\n",
        "        print(\"6. Tiene nivel de azucar alto?\")\n",
        "        print(\"La glucemia es la cantidad de glucosa que circula en la sangre y sirve como fuente de energía para el cuerpo\")\n",
        "        print(\"Se considera alta si se encuentra arriba de 120 mg/dl\")\n",
        "        print(\"7. Frecuencia cardiaca maxima\")\n",
        "        print(\"Es la cantidad máxima de veces que el corazón puede latir en un minuto\")\n",
        "        print(\"Puedes medirla con el dedo, el frecuencímetro o la calculadora\")\n",
        "        print(\"8. Presenta dolores de pecho al hacer ejercicio? (Anginas)\")\n",
        "\n",
        "    response = chatbot.get_response(user_input)\n",
        "    print(f\"Cardio Salud ES: {response}\")"
      ],
      "metadata": {
        "colab": {
          "base_uri": "https://localhost:8080/"
        },
        "id": "OvGhaZic45IK",
        "outputId": "07109235-a674-46e4-9423-a3e603c3ebbb"
      },
      "execution_count": 66,
      "outputs": [
        {
          "output_type": "stream",
          "name": "stdout",
          "text": [
            "***Cardio Salud ES***\n",
            "1) Realizar formulario\n",
            "2) Explicame los datos necesarios\n",
            "3) Salir\n",
            "Nota: Recuerde que estos no son datos oficiales. Consulta con tu medico cualquier sintoma que presentes\n",
            "***Previene y cuida tu salud***\n",
            "Tú: hola\n",
            "Cardio Salud ES: Hola\n",
            "Tú: que tal\n",
            "Cardio Salud ES: Muy buenas, encantado de saludarte\n",
            "Tú: formulario\n",
            "LINK\n",
            "Cardio Salud ES: Aquí tienes el formulario para completar.\n",
            "Tú: opcion 2\n",
            "**DATOS NECESARIOS**\n",
            "1.Edad\n",
            "2.Genero\n",
            "3.Dolor en el pecho (Anginas)\n",
            "La angina de pecho es un tipo de dolor de pecho causado por la reducción del flujo sanguíneo al corazón. \n",
            "4. Presion en sangre\n",
            "La presión arterial es una fuerza que se ejerce en la sangre para que esta pueda recorrer todos los torrentes sanguíneos y así aportarle la vitalidad necesaria a los órganos.\n",
            "5. Colesterol\n",
            "El colesterol es una sustancia cerosa y parecida a la grasa que se encuentra en todas las células de su cuerpo. Su cuerpo necesita algo de colesterol para funcionar bien. Pero si tiene demasiado colesterol en su sangre, se puede pegar en las paredes de sus arterias, estrechándolas o incluso bloqueándolas\n",
            "6. Tiene nivel de azucar alto?\n",
            "La glucemia es la cantidad de glucosa que circula en la sangre y sirve como fuente de energía para el cuerpo\n",
            "Se considera alta si se encuentra arriba de 120 mg/dl\n",
            "7. Frecuencia cardiaca maxima\n",
            "Es la cantidad máxima de veces que el corazón puede latir en un minuto\n",
            "Puedes medirla con el dedo, el frecuencímetro o la calculadora\n",
            "8. Presenta dolores de pecho al hacer ejercicio? (Anginas)\n",
            "Cardio Salud ES: Estos son los datos necesarios que necesitas saber.\n",
            "Tú: que es una angina\n",
            "Cardio Salud ES: La angina de pecho es un tipo de dolor de pecho causado por la reducción del flujo sanguíneo al corazón.\n",
            "Tú: salir\n",
            "¡Adiós!\n"
          ]
        }
      ]
    }
  ]
}